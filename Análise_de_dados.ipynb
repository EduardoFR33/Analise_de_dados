{
 "cells": [
  {
   "cell_type": "code",
   "execution_count": 11,
   "id": "f57b59a6",
   "metadata": {},
   "outputs": [
    {
     "data": {
      "text/plain": [
       "'import pandas as pd\\n\\ndados = pd.read_excel(\"vendas.xlsx\")\\n\\n# Listar primeiras linhas\\ndados.head()\\n\\n# Listar ultimas linhas\\ndados.tail()\\n\\n# Tamanho tabela de dados\\ndados.shape\\n\\n# Tipo de dados \\ndados.dtypes\\n\\n# Gerando estatísticas\\ndados.describe()\\n\\ndados.loja.value_counts()\\n\\ndados.tamanho.value_counts()\\n\\ndados.forma_pagamento.value_counts()\\n\\n# Faturamento por loja\\ndados.groupby(\"loja\").preco.sum()\\n\\n# Faturamento medio por loja\\ndados.groupby(\"loja\").preco.mean()\\n\\n# Faturamento por estado, criando arquivo em excel\\ndados.groupby([\"estado\", \"cidade\"]).preco.sum().to_excel(\"Faturamento-estado-cidade.xlsx\")\\n\\ndados.groupby([\"estado\", \"cidade\"]).preco.mean().to_frame()\\n\\n!pip install plotly_express\\n\\nimport plotly_express as px\\n\\ngrafico = px.histogram(dados, x=\"estado\", y=\"preco\", text_auto=True, color=\"forma_pagamento\")\\ngrafico.show()\\ngrafico.write_html(\"Grafico_forma_pagamento.html\")\\n\\nlista_coluna = [\"loja\", \"cidade\", \"estado\", \"regiao\", \"tamanho\", \"local_consumo\"]\\n\\nfor coluna in lista_coluna:\\n    grafico = px.histogram(dados, x=coluna, y=\"preco\", text_auto=True, color=\"forma_pagamento\")\\n    grafico.show()\\n    grafico.write_html(f\"Grafico_{coluna}.html\")'"
      ]
     },
     "execution_count": 11,
     "metadata": {},
     "output_type": "execute_result"
    }
   ],
   "source": [
    "import pandas as pd\n",
    "\n",
    "dados = pd.read_excel(\"vendas.xlsx\")\n",
    "\n",
    "# Listar primeiras linhas\n",
    "dados.head()\n",
    "\n",
    "# Listar ultimas linhas\n",
    "dados.tail()\n",
    "\n",
    "# Tamanho tabela de dados\n",
    "dados.shape\n",
    "\n",
    "# Tipo de dados \n",
    "dados.dtypes\n",
    "\n",
    "# Gerando estatísticas\n",
    "dados.describe()\n",
    "\n",
    "dados.loja.value_counts()\n",
    "\n",
    "dados.tamanho.value_counts()\n",
    "\n",
    "dados.forma_pagamento.value_counts()\n",
    "\n",
    "# Faturamento por loja\n",
    "dados.groupby(\"loja\").preco.sum()\n",
    "\n",
    "# Faturamento medio por loja\n",
    "dados.groupby(\"loja\").preco.mean()\n",
    "\n",
    "# Faturamento por estado, criando arquivo em excel\n",
    "dados.groupby([\"estado\", \"cidade\"]).preco.sum().to_excel(\"Faturamento-estado-cidade.xlsx\")\n",
    "\n",
    "dados.groupby([\"estado\", \"cidade\"]).preco.mean().to_frame()\n",
    "\n",
    "!pip install plotly_express\n",
    "\n",
    "import plotly_express as px\n",
    "\n",
    "grafico = px.histogram(dados, x=\"estado\", y=\"preco\", text_auto=True, color=\"forma_pagamento\")\n",
    "grafico.show()\n",
    "grafico.write_html(\"Grafico_forma_pagamento.html\")\n",
    "\n",
    "lista_coluna = [\"loja\", \"cidade\", \"estado\", \"regiao\", \"tamanho\", \"local_consumo\"]\n",
    "\n",
    "for coluna in lista_coluna:\n",
    "    grafico = px.histogram(dados, x=coluna, y=\"preco\", text_auto=True, color=\"forma_pagamento\")\n",
    "    grafico.show()\n",
    "    grafico.write_html(f\"Grafico_{coluna}.html\")"
   ]
  },
  {
   "cell_type": "code",
   "execution_count": null,
   "id": "0904b521",
   "metadata": {},
   "outputs": [],
   "source": []
  }
 ],
 "metadata": {
  "kernelspec": {
   "display_name": "Python 3 (ipykernel)",
   "language": "python",
   "name": "python3"
  },
  "language_info": {
   "codemirror_mode": {
    "name": "ipython",
    "version": 3
   },
   "file_extension": ".py",
   "mimetype": "text/x-python",
   "name": "python",
   "nbconvert_exporter": "python",
   "pygments_lexer": "ipython3",
   "version": "3.10.9"
  }
 },
 "nbformat": 4,
 "nbformat_minor": 5
}
